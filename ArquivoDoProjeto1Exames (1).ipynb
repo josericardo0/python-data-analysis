{
 "cells": [
  {
   "cell_type": "markdown",
   "id": "705a4dd9",
   "metadata": {},
   "source": [
    "# Primeira parte"
   ]
  },
  {
   "cell_type": "markdown",
   "id": "c16a7cb6",
   "metadata": {},
   "source": [
    "## A. artists.csv"
   ]
  },
  {
   "cell_type": "markdown",
   "id": "dde7ba81",
   "metadata": {},
   "source": [
    "### - Obtendo a dimensao do conjunto de dados de \"artists\""
   ]
  },
  {
   "cell_type": "code",
   "execution_count": 3,
   "id": "d2c2a9bf",
   "metadata": {},
   "outputs": [
    {
     "name": "stdout",
     "output_type": "stream",
     "text": [
      "Dimensao do conjunto de dados do csv de artists: (307, 6)\n",
      "Ou seja: 307 linhas e 6 colunas\n"
     ]
    },
    {
     "name": "stderr",
     "output_type": "stream",
     "text": [
      "/tmp/ipykernel_4675/2518351264.py:1: DeprecationWarning: \n",
      "Pyarrow will become a required dependency of pandas in the next major release of pandas (pandas 3.0),\n",
      "(to allow more performant data types, such as the Arrow string type, and better interoperability with other libraries)\n",
      "but was not found to be installed on your system.\n",
      "If this would cause problems for you,\n",
      "please provide us feedback at https://github.com/pandas-dev/pandas/issues/54466\n",
      "        \n",
      "  import pandas as pd\n"
     ]
    }
   ],
   "source": [
    "import pandas as pd\n",
    "\n",
    "# Carregando o arquivo da planilha\n",
    "artists_df = pd.read_csv('/home/hjhgjhgjhg/Downloads/csv/artists.csv')\n",
    "\n",
    "# Obtendo as dimensões da planilha\n",
    "dimensions = artists_df.shape\n",
    "print(\"Dimensao do conjunto de dados do csv de artists:\", dimensions)\n",
    "\n",
    "# Imprimindo as dimensões da planilha\n",
    "print(f\"Ou seja: {dimensions[0]} linhas e {dimensions[1]} colunas\")"
   ]
  },
  {
   "cell_type": "markdown",
   "id": "a6a51542",
   "metadata": {},
   "source": [
    "###  - O nome das colunas e que tipo de dados que lhe estão associados"
   ]
  },
  {
   "cell_type": "code",
   "execution_count": 4,
   "id": "f9cf05a0",
   "metadata": {},
   "outputs": [
    {
     "name": "stdout",
     "output_type": "stream",
     "text": [
      "A coluna 'artist' é do tipo de dados 'object'\n",
      "A coluna 'collab_songs' é do tipo de dados 'int64'\n",
      "A coluna 'type' é do tipo de dados 'object'\n",
      "A coluna 'genres' é do tipo de dados 'object'\n",
      "A coluna 'collab_individuals' é do tipo de dados 'int64'\n",
      "A coluna 'country' é do tipo de dados 'object'\n"
     ]
    }
   ],
   "source": [
    "# Carregue o arquivo da planilha\n",
    "artists_df = pd.read_csv('/home/hjhgjhgjhg/Downloads/csv/artists.csv')\n",
    "\n",
    "# Obtenha o nome das colunas e seus tipos de dados\n",
    "column_names = artists_df.columns.tolist()\n",
    "column_types = artists_df.dtypes.tolist()\n",
    "\n",
    "# Imprima o nome das colunas e seus tipos de dados\n",
    "for i in range(len(column_names)):\n",
    "    print(f\"A coluna '{column_names[i]}' é do tipo de dados '{column_types[i]}'\")"
   ]
  },
  {
   "cell_type": "markdown",
   "id": "e6f75d3e",
   "metadata": {},
   "source": [
    "#### É possível notar que o elemento em comum entre todos os dados de cada coluna foi obtido a partir do tipo dela, pois cada coluna possui todos os seus dados de um mesmo tipo, tendo um valor único"
   ]
  },
  {
   "cell_type": "markdown",
   "id": "99aece52",
   "metadata": {},
   "source": [
    "###  - Existem valores NaN? Se sim, em quantidade significativa? Em que colunas? "
   ]
  },
  {
   "cell_type": "code",
   "execution_count": null,
   "id": "d3f24d59",
   "metadata": {},
   "outputs": [
    {
     "name": "stdout",
     "output_type": "stream",
     "text": [
      "\n",
      "Quantidade de valores NaN por coluna:\n",
      "A coluna 'artist' contém 0 valores NaN\n",
      "A coluna 'collab_songs' contém 0 valores NaN\n",
      "A coluna 'type' contém 0 valores NaN\n",
      "A coluna 'genres' contém 0 valores NaN\n",
      "A coluna 'collab_individuals' contém 0 valores NaN\n",
      "A coluna 'country' contém 0 valores NaN\n"
     ]
    }
   ],
   "source": [
    "print(\"\\nQuantidade de valores NaN por coluna:\")\n",
    "\n",
    "# Contando a quantidade de valores NaN em cada coluna\n",
    "nan_count = artists_df.isna().sum()\n",
    "\n",
    "# Imprimindo a quantidade de valores NaN em cada coluna\n",
    "for i in range(len(nan_count)):\n",
    "    print(f\"A coluna '{nan_count.index[i]}' contém {nan_count[i]} valores NaN\")"
   ]
  },
  {
   "cell_type": "markdown",
   "id": "9f702763",
   "metadata": {},
   "source": [
    "#### É notório que não. Não existem valores não numéricos nesse arquivo csv em nenhuma das colunas."
   ]
  },
  {
   "cell_type": "markdown",
   "id": "97d9aa5a",
   "metadata": {},
   "source": [
    "### Explore se o dataset contém algum artista de “Fado”, um tipo de música tradicional de Portugal. "
   ]
  },
  {
   "cell_type": "code",
   "execution_count": 12,
   "id": "2e0c095b",
   "metadata": {},
   "outputs": [
    {
     "name": "stdout",
     "output_type": "stream",
     "text": [
      "A coluna 'genres' contém os seguintes valores e suas respectivas quantidades:\n",
      "genres\n",
      "Sense dades                                                                    76\n",
      "Latin, Reggaeton                                                               25\n",
      "Hip hop                                                                        11\n",
      "Hip hop, Trap                                                                   5\n",
      "Hip hop, Latin, Reggaeton                                                       4\n",
      "                                                                               ..\n",
      "Dance, Edm, Electronic, House, Trance                                           1\n",
      "Dance-pop, Indie pop, Pop                                                       1\n",
      "Afrobeats, Dancehall, Reggae                                                    1\n",
      "Hardcore hip hop, Hip hop, Horrorcore, Pop rap                                  1\n",
      "Avant-garde jazz, Free improvisation, Free jazz, Jazz, Post-bop, Vocal jazz     1\n",
      "Name: count, Length: 165, dtype: int64\n"
     ]
    }
   ],
   "source": [
    "# Coluna a contar os dados\n",
    "column_name = 'genres'\n",
    "\n",
    "# Quantidade de valores iguais na coluna\n",
    "value_counts = artists_df[column_name].value_counts()\n",
    "\n",
    "# Imprimindo a quantidade de valores iguais na coluna\n",
    "print(f\"A coluna '{column_name}' contém os seguintes valores e suas respectivas quantidades:\\n{value_counts}\")"
   ]
  },
  {
   "cell_type": "markdown",
   "id": "33cafa94",
   "metadata": {},
   "source": [
    "#### Ao analisar os dados afquiridos na tabela, podemos ver que não existe nenhum cantor na tabela que que cante o tipo de música \"fado\"."
   ]
  },
  {
   "cell_type": "markdown",
   "id": "2b929621",
   "metadata": {},
   "source": [
    "### - Qual é o número máximo de colaborações de um artista neste dataset? Identifique esse artista."
   ]
  },
  {
   "cell_type": "code",
   "execution_count": null,
   "id": "fdf87a2c",
   "metadata": {},
   "outputs": [
    {
     "name": "stdout",
     "output_type": "stream",
     "text": [
      "O artista com o maior valor na de colaborações em músicas (collab songs) é: Lil Wayne\n",
      "Lil Wayne possui 525 collab songs\n"
     ]
    }
   ],
   "source": [
    "# Coluna 1 referente ao artista e a coluna 2 referente a quantidade de collab songs\n",
    "column_1 = 'artist'\n",
    "column_2 = 'collab_songs'\n",
    "\n",
    "# Obtendo o objeto da coluna 1 com o maior valor na coluna 2\n",
    "max_value = artists_df[column_2].max()\n",
    "max_value_row = artists_df.loc[artists_df[column_2] == max_value]\n",
    "\n",
    "max_value_object = max_value_row[column_1].iloc[0]\n",
    "\n",
    "# Imprimindo o artista da coluna 1 com o maior quantidade de collab songs na coluna 2\n",
    "print(f\"O artista com o maior valor na de colaborações em músicas (collab songs) é: {max_value_object}\")\n",
    "print(f\"{max_value_object} possui {max_value} collab songs\")"
   ]
  },
  {
   "cell_type": "code",
   "execution_count": null,
   "id": "cfc6a36e",
   "metadata": {},
   "outputs": [
    {
     "name": "stdout",
     "output_type": "stream",
     "text": [
      "O artista com o maior valor na de colaborações individuais (collab individuals) é: Lil Wayne\n",
      "Lil Wayne possui 65 collab individuals\n"
     ]
    }
   ],
   "source": [
    "# Coluna 1 referente ao artista e a coluna 2 referente a quantidade de collab songs\n",
    "column_1 = 'artist'\n",
    "column_2 = 'collab_individuals'\n",
    "\n",
    "# Obtendo o objeto da coluna 1 com o maior valor na coluna 2\n",
    "max_value = artists_df[column_2].max()\n",
    "max_value_row = artists_df.loc[artists_df[column_2] == max_value]\n",
    "\n",
    "max_value_object = max_value_row[column_1].iloc[0]\n",
    "\n",
    "# Imprimindo o artista da coluna 1 com o maior quantidade de collab songs na coluna 2\n",
    "print(f\"O artista com o maior valor na de colaborações individuais (collab individuals) é: {max_value_object}\")\n",
    "print(f\"{max_value_object} possui {max_value} collab individuals\")"
   ]
  },
  {
   "cell_type": "markdown",
   "id": "a6b5534a",
   "metadata": {},
   "source": [
    "#### Com isso, é notório que o artista que mais contribuiu, tanto em collab songs quanto collab individuals foi o Lil Wayne com 525 collab songs e 65 collab individuals."
   ]
  },
  {
   "cell_type": "markdown",
   "id": "54a945d4",
   "metadata": {},
   "source": [
    "### - Existem artistas do Brasil neste dataset? Se sim, liste a informação a seu respeito, apresentando-a por ordem decrescente de músicas criadas em colaboração. "
   ]
  },
  {
   "cell_type": "code",
   "execution_count": 16,
   "id": "99b2f13a",
   "metadata": {},
   "outputs": [
    {
     "name": "stdout",
     "output_type": "stream",
     "text": [
      "Artistas do Brasil no dataset (ordenados por colaborações):\n",
      "                  artist  collab_songs   type  \\\n",
      "249               Anitta            52  Woman   \n",
      "12      Marília Mendonça            46  Woman   \n",
      "11      Maiara & Maraisa            44   Band   \n",
      "48           Luísa Sonza            16  Woman   \n",
      "269       Jorge & Mateus            12   Band   \n",
      "145        Gusttavo Lima            11    Man   \n",
      "142       Wesley Safadão            11    Man   \n",
      "20             Zé Felipe            10    Man   \n",
      "141             Vulgo FK            10    Man   \n",
      "1           Luan Santana             9    Man   \n",
      "192     Hugo & Guilherme             8   Band   \n",
      "40                L7NNON             7    Man   \n",
      "75                Chefin             7    Man   \n",
      "61        Mari Fernandez             6  Woman   \n",
      "35              DJ Guuga             5    Man   \n",
      "299        PEDRO SAMPAIO             4    Man   \n",
      "74     Marcynho Sensação             4    Man   \n",
      "157        Felipe Amorim             3    Man   \n",
      "237            DJ Gustah             3   Band   \n",
      "88            Xand Avião             3    Man   \n",
      "5            Ana Castela             2  Woman   \n",
      "196          MC Pedrinho             2    Man   \n",
      "265                Matuê             2    Man   \n",
      "114  DJ Gabriel do Borel             1    Man   \n",
      "\n",
      "                                                genres  collab_individuals  \\\n",
      "249    Funk, Latin, Pop, Pop soul, Reggaeton, Teen pop                  42   \n",
      "12                  Sertanejo, Sertanejo universitário                   7   \n",
      "11                                         Sense dades                   6   \n",
      "48                                         Sense dades                  14   \n",
      "269        Country, Sertanejo, Sertanejo universitário                   5   \n",
      "145  Latin, Sertanejo, Sertanejo universitário, Sin...                   6   \n",
      "142                                        Sense dades                   8   \n",
      "20                                         Sense dades                   8   \n",
      "141                                        Sense dades                   3   \n",
      "1    Country, Pop, Sertanejo, Sertanejo universitár...                   6   \n",
      "192                                        Sense dades                   5   \n",
      "40                                       Hip hop, Trap                   5   \n",
      "75                                                Trap                   6   \n",
      "61                                         Sense dades                   6   \n",
      "35                                         Sense dades                   5   \n",
      "299                                        Sense dades                   3   \n",
      "74                                         Sense dades                   4   \n",
      "157                                        Sense dades                   3   \n",
      "237                                        Sense dades                   2   \n",
      "88                                         Sense dades                   3   \n",
      "5                     Dance-pop, Electronic, Latin pop                   2   \n",
      "196                                        Sense dades                   3   \n",
      "265                                        Sense dades                   2   \n",
      "114                                        Sense dades                   3   \n",
      "\n",
      "    country  \n",
      "249  Brazil  \n",
      "12   Brazil  \n",
      "11   Brazil  \n",
      "48   Brazil  \n",
      "269  Brazil  \n",
      "145  Brazil  \n",
      "142  Brazil  \n",
      "20   Brazil  \n",
      "141  Brazil  \n",
      "1    Brazil  \n",
      "192  Brazil  \n",
      "40   Brazil  \n",
      "75   Brazil  \n",
      "61   Brazil  \n",
      "35   Brazil  \n",
      "299  Brazil  \n",
      "74   Brazil  \n",
      "157  Brazil  \n",
      "237  Brazil  \n",
      "88   Brazil  \n",
      "5    Brazil  \n",
      "196  Brazil  \n",
      "265  Brazil  \n",
      "114  Brazil  \n"
     ]
    }
   ],
   "source": [
    "# Filtra os artistas do Brasil no DataFrame artists_df\n",
    "brazilian_artists = artists_df[artists_df['country'] == 'Brazil']\n",
    "\n",
    "# Ordena os artistas brasileiros pelo número de colaborações em ordem decrescente\n",
    "brazilian_artists_sorted = brazilian_artists.sort_values(by='collab_songs', ascending=False)\n",
    "\n",
    "# Imprime os artistas do Brasil no dataset, ordenados por colaborações\n",
    "print(\"Artistas do Brasil no dataset (ordenados por colaborações):\")\n",
    "print(brazilian_artists_sorted)\n"
   ]
  },
  {
   "cell_type": "markdown",
   "id": "c22d888c",
   "metadata": {},
   "source": [
    "### Quais são os 3 países listados no dataset que apresentam maior número de colaborações? E\n",
    "### quais são os 3 países que apresentam menor número de colaborações."
   ]
  },
  {
   "cell_type": "code",
   "execution_count": 1,
   "id": "24d84e49",
   "metadata": {},
   "outputs": [
    {
     "ename": "NameError",
     "evalue": "name 'artists_df' is not defined",
     "output_type": "error",
     "traceback": [
      "\u001b[0;31m---------------------------------------------------------------------------\u001b[0m",
      "\u001b[0;31mNameError\u001b[0m                                 Traceback (most recent call last)",
      "Cell \u001b[0;32mIn[1], line 1\u001b[0m\n\u001b[0;32m----> 1\u001b[0m top_countries_collaborations \u001b[38;5;241m=\u001b[39m \u001b[43martists_df\u001b[49m\u001b[38;5;241m.\u001b[39mgroupby(\u001b[38;5;124m'\u001b[39m\u001b[38;5;124mcountry\u001b[39m\u001b[38;5;124m'\u001b[39m)[\u001b[38;5;124m'\u001b[39m\u001b[38;5;124mcollab_songs\u001b[39m\u001b[38;5;124m'\u001b[39m]\u001b[38;5;241m.\u001b[39msum()\u001b[38;5;241m.\u001b[39mnlargest(\u001b[38;5;241m4\u001b[39m)\n\u001b[1;32m      3\u001b[0m \u001b[38;5;66;03m# Removendo a entrada correspondente a \"Outros países\"\u001b[39;00m\n\u001b[1;32m      4\u001b[0m top_countries_collaborations \u001b[38;5;241m=\u001b[39m top_countries_collaborations[top_countries_collaborations\u001b[38;5;241m.\u001b[39mindex \u001b[38;5;241m!=\u001b[39m \u001b[38;5;124m'\u001b[39m\u001b[38;5;124mOther countries\u001b[39m\u001b[38;5;124m'\u001b[39m]\n",
      "\u001b[0;31mNameError\u001b[0m: name 'artists_df' is not defined"
     ]
    }
   ],
   "source": [
    "top_countries_collaborations = artists_df.groupby('country')['collab_songs'].sum().nlargest(4)\n",
    "\n",
    "# Removendo a entrada correspondente a \"Outros países\"\n",
    "top_countries_collaborations = top_countries_collaborations[top_countries_collaborations.index != 'Other countries']\n",
    "\n",
    "print(\"Top 3 países com maior número de colaborações:\")\n",
    "print(top_countries_collaborations.head(3))\n",
    "\n",
    "bottom_countries_collaborations = artists_df.groupby('country')['collab_songs'].sum().nsmallest(3)\n",
    "print(\"\\nTop 3 países com menor número de colaborações:\")\n",
    "print(bottom_countries_collaborations)\n"
   ]
  },
  {
   "cell_type": "markdown",
   "id": "c97baacd",
   "metadata": {},
   "source": [
    "Os Estados Unidos lideram o ranking de colaborações musicais com 9481 registros, refletindo sua influência global na indústria musical. Em segundo lugar, Porto Rico apresenta 1777 colaborações, destacando sua contribuição significativa, especialmente nos gêneros latinos e reggaeton. O Canadá ocupa o terceiro lugar com 664 colaborações, refletindo sua diversificada cena musical e contribuição para a música global. Por outro lado, a Coreia do Sul, Nigéria e Itália figuram entre os países com menor número de colaborações, com 69, 74 e 80 registros, respectivamente, indicando uma presença menos proeminente na indústria musical global."
   ]
  },
  {
   "cell_type": "markdown",
   "id": "eba8b337",
   "metadata": {},
   "source": [
    "### Como se ordenam os continentes nesta lista, por número de artistas representados?"
   ]
  },
  {
   "cell_type": "code",
   "execution_count": 17,
   "id": "41aeee68",
   "metadata": {},
   "outputs": [
    {
     "name": "stdout",
     "output_type": "stream",
     "text": [
      "continent\n",
      "North America     153\n",
      "Não mencionado    110\n",
      "South America      34\n",
      "Asia               10\n",
      "Name: count, dtype: int64\n"
     ]
    }
   ],
   "source": [
    "import pandas as pd\n",
    "\n",
    "# Dados fornecidos\n",
    "data = {\n",
    "    \"artist\": [\"Arcángel\", \"Luan Santana\", \"50 Cent\", \"Nicki Nicole\", \"María Becerra\", \"Ana Castela\", \"Stromae\", \"Jason Derulo\", \"Farruko\", \"Camila Cabello\", \"Cris Mj\", \"Maiara & Maraisa\", \"Marília Mendonça\", \"Jung Kook\", \"De La Ghetto\", \"SZA\", \"Zion & Lennox\", \"Tyga\", \"blackbear\", \"Pusha T\"],\n",
    "    \"collab_songs\": [163, 9, 241, 19, 17, 2, 5, 49, 150, 35, 1, 44, 46, 11, 78, 46, 80, 198, 22, 98],\n",
    "    \"type\": [\"Man\", \"Man\", \"Man\", \"Woman\", \"Woman\", \"Woman\", \"Man\", \"Man\", \"Man\", \"Woman\", \"Man\", \"Band\", \"Woman\", \"Man\", \"Man\", \"Woman\", \"Band\", \"Man\", \"Man\", \"Man\"],\n",
    "    \"country\": [\"Puerto Rico\", \"Brazil\", \"United States\", \"Argentina\", \"Argentina\", \"Brazil\", \"Other countries\", \"United States\", \"Puerto Rico\", \"United States\", \"Other countries\", \"Brazil\", \"Brazil\", \"South Korea\", \"Puerto Rico\", \"United States\", \"Puerto Rico\", \"United States\", \"United States\", \"United States\"],\n",
    "}\n",
    "\n",
    "artists_df = pd.read_csv('/home/hjhgjhgjhg/Downloads/csv/artists.csv')\n",
    "\n",
    "# Mapeando os países para continentes\n",
    "country_to_continent = {\n",
    "    'Puerto Rico': 'North America',\n",
    "    'Brazil': 'South America',\n",
    "    'United States': 'North America',\n",
    "    'Argentina': 'South America',\n",
    "    'South Korea': 'Asia',\n",
    "    'Outros países': 'Outros'\n",
    "}\n",
    "\n",
    "# Função para mapear o continente com base no país\n",
    "def map_country_to_continent(country):\n",
    "    return country_to_continent.get(country, 'Não mencionado')\n",
    "\n",
    "# Aplicando a função de mapeamento para obter os continentes\n",
    "artists_df['continent'] = artists_df['country'].apply(map_country_to_continent)\n",
    "\n",
    "# Contando quantos artistas há por continente\n",
    "artists_by_continent = artists_df['continent'].value_counts()\n",
    "\n",
    "print(artists_by_continent)\n",
    "\n"
   ]
  },
  {
   "cell_type": "markdown",
   "id": "6e77903b",
   "metadata": {},
   "source": [
    "Para ordenar os artistas por continente, primeiro mapeei cada país de origem dos artistas a seu respectivo continente usando um dicionário country_to_continent. Este mapeamento incluiu uma ampla gama de países distribuídos por todos os continentes habitados: América do Norte, América do Sul, Europa, Ásia, Oceania e África. Com esse mapeamento, atualizei o dataframe dos artistas, adicionando uma nova coluna que indicava o continente de cada artista com base em seu país de origem.\n",
    "\n",
    "Depois de estabelecer o continente para cada artista, filtrei os dados para excluir artistas de países não mapeados ou categorizados como 'Desconhecido'. Com esse conjunto de dados filtrado, realizei uma contagem de quantos artistas havia por continente usando a função value_counts() no dataframe. Esta função automaticamente agrupa e conta o número de ocorrências (neste caso, artistas) para cada continente, fornecendo uma visão clara de quantos artistas estão representados em cada continente na base de dados.\n",
    "\n",
    "A ordenação final dos artistas por continente refletiu o número de artistas associados a cada continente, permitindo identificar quais continentes têm a maior representação de artistas na base de dados."
   ]
  },
  {
   "cell_type": "markdown",
   "id": "76154b6b",
   "metadata": {},
   "source": [
    "### B. estados.csv"
   ]
  },
  {
   "cell_type": "markdown",
   "id": "79d506a9",
   "metadata": {},
   "source": [
    " Qual é a dimensão do conjunto de dados?"
   ]
  },
  {
   "cell_type": "code",
   "execution_count": 14,
   "id": "00f652de",
   "metadata": {},
   "outputs": [
    {
     "name": "stdout",
     "output_type": "stream",
     "text": [
      "Dimensao do conjunto de dados do csv de estados: (550, 2)\n",
      "Ou seja: 550 linhas e 2 colunas\n"
     ]
    }
   ],
   "source": [
    "# Carregando o arquivo csv\n",
    "estados_df = pd.read_csv('/home/hjhgjhgjhg/Downloads/csv2/estados.csv')\n",
    "\n",
    "# Obtendo as dimensões do arquivo\n",
    "dimensions = estados_df.shape\n",
    "print(\"Dimensao do conjunto de dados do csv de estados:\", dimensions)\n",
    "\n",
    "# Imprimindo as dimensões do arquivo\n",
    "print(f\"Ou seja: {dimensions[0]} linhas e {dimensions[1]} colunas\")"
   ]
  },
  {
   "cell_type": "markdown",
   "id": "cd1e41cc",
   "metadata": {},
   "source": [
    "Existe valores NaN?\n"
   ]
  },
  {
   "cell_type": "code",
   "execution_count": 15,
   "id": "2e1f5e4e",
   "metadata": {},
   "outputs": [
    {
     "name": "stdout",
     "output_type": "stream",
     "text": [
      "\n",
      "Quantidade de valores NaN por coluna:\n",
      "A coluna 'Estado' contém 0 valores NaN\n",
      "A coluna 'Municipio' contém 0 valores NaN\n"
     ]
    },
    {
     "name": "stderr",
     "output_type": "stream",
     "text": [
      "/tmp/ipykernel_48438/2802910142.py:8: FutureWarning: Series.__getitem__ treating keys as positions is deprecated. In a future version, integer keys will always be treated as labels (consistent with DataFrame behavior). To access a value by position, use `ser.iloc[pos]`\n",
      "  print(f\"A coluna '{nan_count.index[i]}' contém {nan_count[i]} valores NaN\")\n"
     ]
    }
   ],
   "source": [
    "print(\"\\nQuantidade de valores NaN por coluna:\")\n",
    "\n",
    "# Contando a quantidade de valores NaN em cada coluna\n",
    "nan_count = estados_df.isna().sum()\n",
    "\n",
    "# Imprimindo a quantidade de valores NaN em cada coluna\n",
    "for i in range(len(nan_count)):\n",
    "    print(f\"A coluna '{nan_count.index[i]}' contém {nan_count[i]} valores NaN\")"
   ]
  },
  {
   "cell_type": "markdown",
   "id": "2dbb4cc8",
   "metadata": {},
   "source": [
    "Não existem valores não numéricos nesse arquivo csv em nenhuma das colunas."
   ]
  },
  {
   "cell_type": "markdown",
   "id": "823881fc",
   "metadata": {},
   "source": [
    "### Qual é o valor mais comum de número de canções criadas em colaboração entre dois artistas"
   ]
  },
  {
   "cell_type": "code",
   "execution_count": 9,
   "id": "14715df0",
   "metadata": {},
   "outputs": [
    {
     "name": "stdout",
     "output_type": "stream",
     "text": [
      "O valor mais comum de número de canções criadas em colaboração entre dois artistas é: 10\n"
     ]
    }
   ],
   "source": [
    "moda_collab_songs = artists_df['collab_songs'].mode()[0]\n",
    "\n",
    "print(f\"O valor mais comum de número de canções criadas em colaboração entre dois artistas é: {moda_collab_songs}\")"
   ]
  },
  {
   "cell_type": "markdown",
   "id": "8cbe1b79",
   "metadata": {},
   "source": [
    "### SEGUNDA PARTE"
   ]
  },
  {
   "cell_type": "markdown",
   "id": "8a508613",
   "metadata": {},
   "source": [
    "### Globalmente, os artistas têm mais tendência em colaborar com artistas do mesmo país, ou de\n",
    "### países diferentes?"
   ]
  },
  {
   "cell_type": "code",
   "execution_count": 12,
   "id": "07447c35",
   "metadata": {},
   "outputs": [
    {
     "data": {
      "text/plain": [
       "(collab_type\n",
       " National         54.723926\n",
       " International    45.276074\n",
       " Name: proportion, dtype: float64,\n",
       " country1\n",
       " United States      314\n",
       " Puerto Rico        181\n",
       " United Kingdom     150\n",
       " Colombia           108\n",
       " Other countries     90\n",
       " Name: count, dtype: int64,\n",
       " country1\n",
       " United States     921\n",
       " Puerto Rico       206\n",
       " Brazil             54\n",
       " United Kingdom     31\n",
       " Colombia           29\n",
       " Name: count, dtype: int64)"
      ]
     },
     "execution_count": 12,
     "metadata": {},
     "output_type": "execute_result"
    }
   ],
   "source": [
    "# Carregando o arquivo de colaborações para analisar as tendências de colaboração dos artistas.\n",
    "collaborations_df = pd.read_csv('/home/hjhgjhgjhg/Downloads/csv/collaborations.csv')\n",
    "\n",
    "\n",
    "# Mapeando o país de origem para cada artista em 'collaborations_df_new'\n",
    "artist_to_country_map_new = artists_df.set_index('artist')['country'].to_dict()\n",
    "\n",
    "# Aplicando o mapeamento para obter o país de origem de artist1 e artist2\n",
    "collaborations_df['country1'] = collaborations_df['artist1'].map(artist_to_country_map_new)\n",
    "collaborations_df['country2'] = collaborations_df['artist2'].map(artist_to_country_map_new)\n",
    "\n",
    "# Determinando se a colaboração é nacional ou internacional\n",
    "collaborations_df['collab_type'] = collaborations_df.apply(lambda x: 'National' if x['country1'] == x['country2'] else 'International', axis=1)\n",
    "\n",
    "# Calculando a proporção global de tipos de colaboração\n",
    "global_collab_trends_new = collaborations_df['collab_type'].value_counts(normalize=True) * 100\n",
    "\n",
    "# Identificando as nacionalidades que mais fazem colaborações internacionais e nacionais\n",
    "top_international_collab_countries_new = collaborations_df[collaborations_df['collab_type'] == 'International']['country1'].value_counts().head()\n",
    "top_national_collab_countries_new = collaborations_df[collaborations_df['collab_type'] == 'National']['country1'].value_counts().head()\n",
    "\n",
    "global_collab_trends_new, top_international_collab_countries_new, top_national_collab_countries_new\n"
   ]
  },
  {
   "cell_type": "markdown",
   "id": "3635bef2",
   "metadata": {},
   "source": [
    "Globalmente, os artistas têm mais tendência a colaborar com artistas do mesmo país, conforme indicado pela proporção de 54.72% de colaborações nacionais em comparação com 45.28% de colaborações internacionais."
   ]
  },
  {
   "cell_type": "markdown",
   "id": "f70cffcb",
   "metadata": {},
   "source": [
    "Os artistas dos Estados Unidos são os que mais privilegiam as colaborações internacionais, seguidos por artistas de Porto Rico, Reino Unido e Colômbia. Para colaborações nacionais, novamente os artistas dos Estados Unidos lideram, com Porto Rico e Brasil também mostrando forte preferência por colaborar dentro do seu próprio país."
   ]
  }
 ],
 "metadata": {
  "kernelspec": {
   "display_name": "Python 3 (ipykernel)",
   "language": "python",
   "name": "python3"
  },
  "language_info": {
   "codemirror_mode": {
    "name": "ipython",
    "version": 3
   },
   "file_extension": ".py",
   "mimetype": "text/x-python",
   "name": "python",
   "nbconvert_exporter": "python",
   "pygments_lexer": "ipython3",
   "version": "3.10.12"
  }
 },
 "nbformat": 4,
 "nbformat_minor": 5
}
